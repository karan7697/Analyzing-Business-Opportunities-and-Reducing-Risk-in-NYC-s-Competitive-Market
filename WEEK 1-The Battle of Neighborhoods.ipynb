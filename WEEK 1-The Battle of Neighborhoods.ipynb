{
 "cells": [
  {
   "cell_type": "markdown",
   "metadata": {},
   "source": [
    "<B><h1> Capstone Project: Battle Of Neighbourhood</h1></B><br>\n",
    "    <B>WEEK 1</B> "
   ]
  },
  {
   "cell_type": "code",
   "execution_count": 1,
   "metadata": {},
   "outputs": [],
   "source": [
    "import numpy as np # library to handle data in a vectorized manner\n",
    "import time\n",
    "import pandas as pd # library for data analsysis\n",
    "pd.set_option('display.max_columns', None)\n",
    "pd.set_option('display.max_rows', None)\n",
    "\n",
    "import json # library to handle JSON files\n",
    "import requests # library to handle requests\n",
    "from pandas.io.json import json_normalize # tranform JSON file into a pandas dataframe\n",
    "\n",
    "from geopy.geocoders import Nominatim"
   ]
  },
  {
   "cell_type": "code",
   "execution_count": 3,
   "metadata": {},
   "outputs": [
    {
     "name": "stdout",
     "output_type": "stream",
     "text": [
      "Collecting folium\n",
      "  Downloading folium-0.11.0-py2.py3-none-any.whl (93 kB)\n",
      "\u001b[K     |████████████████████████████████| 93 kB 3.0 MB/s  eta 0:00:01\n",
      "\u001b[?25hRequirement already satisfied: numpy in /opt/conda/envs/Python-3.7-main/lib/python3.7/site-packages (from folium) (1.18.5)\n",
      "Collecting branca>=0.3.0\n",
      "  Downloading branca-0.4.1-py3-none-any.whl (24 kB)\n",
      "Requirement already satisfied: requests in /opt/conda/envs/Python-3.7-main/lib/python3.7/site-packages (from folium) (2.24.0)\n",
      "Requirement already satisfied: jinja2>=2.9 in /opt/conda/envs/Python-3.7-main/lib/python3.7/site-packages (from folium) (2.11.2)\n",
      "Requirement already satisfied: urllib3!=1.25.0,!=1.25.1,<1.26,>=1.21.1 in /opt/conda/envs/Python-3.7-main/lib/python3.7/site-packages (from requests->folium) (1.25.9)\n",
      "Requirement already satisfied: idna<3,>=2.5 in /opt/conda/envs/Python-3.7-main/lib/python3.7/site-packages (from requests->folium) (2.9)\n",
      "Requirement already satisfied: chardet<4,>=3.0.2 in /opt/conda/envs/Python-3.7-main/lib/python3.7/site-packages (from requests->folium) (3.0.4)\n",
      "Requirement already satisfied: certifi>=2017.4.17 in /opt/conda/envs/Python-3.7-main/lib/python3.7/site-packages (from requests->folium) (2020.6.20)\n",
      "Requirement already satisfied: MarkupSafe>=0.23 in /opt/conda/envs/Python-3.7-main/lib/python3.7/site-packages (from jinja2>=2.9->folium) (1.1.1)\n",
      "Installing collected packages: branca, folium\n",
      "Successfully installed branca-0.4.1 folium-0.11.0\n",
      "Note: you may need to restart the kernel to use updated packages.\n"
     ]
    }
   ],
   "source": [
    "pip install folium"
   ]
  },
  {
   "cell_type": "code",
   "execution_count": 4,
   "metadata": {},
   "outputs": [],
   "source": [
    "import folium"
   ]
  },
  {
   "cell_type": "code",
   "execution_count": 5,
   "metadata": {},
   "outputs": [
    {
     "name": "stdout",
     "output_type": "stream",
     "text": [
      "Libraries imported.\n"
     ]
    }
   ],
   "source": [
    "print('Libraries imported.')"
   ]
  },
  {
   "cell_type": "markdown",
   "metadata": {},
   "source": [
    "<H1><B>Coursera Capstone - REPORT CONTENT</H1><br>\n",
    "    <ol>\n",
    "  <li>Introduction Section : ⁃ Discussion of the business problem and the interested audience in this project.</li>\n",
    "  <li>Data Section:\n",
    "⁃ Description of the data that will be used to solve the problem and the sources.</li>\n",
    "  <li>Methodology section ⁃ Discussion and description of exploratory data analysis carried out, any inferential statistical testing performed, and if any machine learnings were used establishing the strategy and purposes.</li>\n",
    "  <li>Results section ⁃ Discussion of the results.</li>\n",
    "  <li>Discussion section ⁃ Elaboration and discussion on any observations noted and any recommendations suggested based on the results.</li>\n",
    "        <li>Conclusion section ⁃ Report Conclusion.</li>      \n",
    "</ol>"
   ]
  },
  {
   "cell_type": "markdown",
   "metadata": {},
   "source": [
    "<h1><b><u>Section - 1 - Introduction</h1></b></u>\n",
    "<br><h3><b>Discussion of the business problem and the audience who would be interested in this project.<br>Description of the Problem and Background.<br><br>Scenario:</h3></b><br>\n",
    "I am a data scientist residing in India. I currently live within walking distance to Downtownand and I enjoy many ammenities and venues in the area, such as various international cousine restaurants, cafes, food shops and entertainment. I have been offered a great opportunity to work for a leader firm in Manhattan, NY. I am very excited and I want to use this opportunity to practice my learnings in Coursera in order to answer relevant questions arisen. The key question is : How can I find a convenient and enjoyable place similar to mine now in USA? Certainly, I can use available real estate apps and Google but the idea is to use and apply myself the learned tools during the course. In order to make a comparison and evaluation of the rental options in Manhattan NY, I must set some basis, therefore the apartment in Manhattan must meet the following demands:<br>\n",
    "<ul>\n",
    "  <li>apartment must be 2 or 3 bedrooms</li>\n",
    "  <li>desired location is near a metro station in the Manhattan area and within 1.0 mile (1.6 km) radius</li>\n",
    "  <li>price of rent not exceed $7,000 per month</li>\n",
    "  <li>top ammenities in the selected neighborhood shall be similar to current residence</li>\n",
    "  <li>desirable to have venues such as coffee shops, restaurants Asian Thai, wine stores, gym and food shops.</li>\n",
    "  <li>As a reference, I have included a map of venues near my current residence in India.</li>\n",
    "</ul>\n",
    "<br><h3><b>Business Problem</h3></b><br>\n",
    "The challenge is to find a suitable apartment for rent in Manhattan NY that complies with the demands on location, price and venues. The data required to resolve this challenge is described in the following section 2, below.<br>\n",
    "<h3><b>Interested Audience</h3></b><br>\n",
    "I believe this is a relevant challenge with valid questions for anyone moving to other large city in US, EU or Asia. The same methodology can be applied in accordance to demands as applicable. This case is also applicable for anyone interested in exploring starting or locating a new business in any city. Lastly, it can also serve as a good practical exercise to develop Data Science skills.<br>\n",
    "\n",
    "<h1><b><u>Section - 2 - Data Section</h1></b></u>\n",
    "<h3><b>Description of the data and its sources that will be used to solve the problem.<br><br>Description of the Data:</h3></b><br>\n",
    "The following data is required to answer the issues of the problem:<br>\n",
    "<ul>\n",
    "<li>List of Boroughs and neighborhoods of Manhattan with their geodata (latitud and longitud).</li>\n",
    "<li>List of Subway metro stations in Manhattan with their address location.</li>\n",
    "<li>List of apartments for rent in Manhattan area with their addresses and price.</li>\n",
    "<li>Preferably, a list of apartment for rent with additional information, such as price, address, area, Number of beds, etc.</li>\n",
    "<li>Venues for each Manhattan neighborhood ( than can be clustered).</li>\n",
    "<li>Venues for subway metro stations, as needed.</li><br><br>\n",
    "</ul><br>\n",
    "\n",
    "<h3><b>How the data will be used to solve the problem:</h3></b><br>\n",
    "The data will be used as follows:<br>\n",
    "<ul>\n",
    "<li>Use Foursquare and geopy data to map top 10 venues for all Manhattan neighborhoods and clustered in groups ( as per Course LAB).</li>\n",
    "<li>Use foursquare and geopy data to map the location of subway metro stations , separately and on top of the above clustered map in order to be able to identify the venues and ammenities near each metro station, or explore each subway location separately.</li>\n",
    "<li>Use Foursquare and geopy data to map the location of rental places, in some form, linked to the subway locations.</li>\n",
    "<li>create a map that depicts, for instance, the average rental price per square ft, around a radious of 1.0 mile (1.6 km) around each subway station - or a similar metrics. I will be able to quickly point to the popups to know the relative price per subway area.</li>\n",
    "<li>Addresses from rental locations will be converted to geodata( lat, long) using Geopy-distance and Nominatim.</li>\n",
    "<li>Data will be searched in open data sources if available, from real estate sites if open to reading, libraries or other government agencies such as Metro New York MTA, etc.</li>\n",
    "</ul><br>\n",
    "The procesing of these DATA will allow to answer the key questions to make a decision:<br>\n",
    "<ul>\n",
    "<li>what is the cost of rent (per square ft) around a mile radius from each subway metro station?</li>\n",
    "<li>what is the area of Manhattan with best rental pricing that meets criteria established?</li>\n",
    "<li>What is the distance from work place ( Park Ave and 53 rd St) and the tentative future home?</li>\n",
    "<li>What are the venues of the two best places to live? How the prices compare?</li>\n",
    "<li>How venues distribute among Manhattan neighborhoods and around metro stations?</li>\n",
    "<li>Are there tradeoffs between size and price and location?</li>\n",
    "<li>Any other interesting statistical data findings of the real estate and overall data.</li>\n",
    "</ul><br>\n",
    "<h3><b>Reference of venues around current residence in India for comparison to Manhattan place:</h3></b><br>"
   ]
  },
  {
   "cell_type": "code",
   "execution_count": null,
   "metadata": {},
   "outputs": [],
   "source": []
  },
  {
   "cell_type": "code",
   "execution_count": null,
   "metadata": {},
   "outputs": [],
   "source": []
  },
  {
   "cell_type": "code",
   "execution_count": null,
   "metadata": {},
   "outputs": [],
   "source": []
  },
  {
   "cell_type": "code",
   "execution_count": null,
   "metadata": {},
   "outputs": [],
   "source": []
  }
 ],
 "metadata": {
  "kernelspec": {
   "display_name": "Python 3.7",
   "language": "python",
   "name": "python3"
  },
  "language_info": {
   "codemirror_mode": {
    "name": "ipython",
    "version": 3
   },
   "file_extension": ".py",
   "mimetype": "text/x-python",
   "name": "python",
   "nbconvert_exporter": "python",
   "pygments_lexer": "ipython3",
   "version": "3.7.9"
  }
 },
 "nbformat": 4,
 "nbformat_minor": 1
}
